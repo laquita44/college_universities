{
 "cells": [
  {
   "cell_type": "markdown",
   "metadata": {
    "id": "GoL1NxUYEK4N"
   },
   "source": [
    "## Preprocessing"
   ]
  },
  {
   "cell_type": "code",
   "execution_count": null,
   "metadata": {
    "colab": {
     "base_uri": "https://localhost:8080/",
     "height": 496
    },
    "id": "xRYRNNT2EK4P",
    "outputId": "c749800e-f4e5-4665-b247-7b7f8f5bc523"
   },
   "outputs": [],
   "source": [
    "# Import our dependencies\n",
    "from sklearn.model_selection import train_test_split\n",
    "from sklearn.preprocessing import StandardScaler\n",
    "import pandas as pd\n",
    "import tensorflow as tf\n",
    "\n",
    "\n",
    "#  Import and read the charity_data.csv.\n",
    "import pandas as pd \n",
    "application_df = pd.read_csv(\"..degree_data.csv\")\n",
    "application_df.head()"
   ]
  },
  {
   "cell_type": "code",
   "execution_count": 6,
   "metadata": {
    "id": "OjXEfPIwEK4R"
   },
   "outputs": [],
   "source": [
    "# Drop the non-beneficial ID columns, 'EIN' and 'NAME'.\n",
    "#  YOUR CODE GOES HERE\n",
    "application_df = application_df.drop(columns = ['EIN', 'NAME'])"
   ]
  },
  {
   "cell_type": "code",
   "execution_count": 7,
   "metadata": {
    "colab": {
     "base_uri": "https://localhost:8080/"
    },
    "id": "I9HsJX3HEK4R",
    "outputId": "55d4476f-430f-43fa-c82f-729a633017f3"
   },
   "outputs": [
    {
     "name": "stdout",
     "output_type": "stream",
     "text": [
      "APPLICATION_TYPE 17\n",
      "AFFILIATION 6\n",
      "CLASSIFICATION 71\n",
      "USE_CASE 5\n",
      "ORGANIZATION 4\n",
      "STATUS 2\n",
      "INCOME_AMT 9\n",
      "SPECIAL_CONSIDERATIONS 2\n",
      "ASK_AMT 8747\n",
      "IS_SUCCESSFUL 2\n"
     ]
    }
   ],
   "source": [
    "# Determine the number of unique values in each column.\n",
    "#  YOUR CODE GOES HERE\n",
    "for x in application_df.columns:\n",
    "    print(x, len(application_df[x].unique()))"
   ]
  },
  {
   "cell_type": "code",
   "execution_count": 8,
   "metadata": {
    "colab": {
     "base_uri": "https://localhost:8080/"
    },
    "id": "KUDnaQmzEK4R",
    "outputId": "08536745-df76-4e7d-ded9-e0fd56495bff"
   },
   "outputs": [
    {
     "data": {
      "text/plain": [
       "T3     27037\n",
       "T4      1542\n",
       "T6      1216\n",
       "T5      1173\n",
       "T19     1065\n",
       "T8       737\n",
       "T7       725\n",
       "T10      528\n",
       "T9       156\n",
       "T13       66\n",
       "T12       27\n",
       "T2        16\n",
       "T25        3\n",
       "T14        3\n",
       "T29        2\n",
       "T15        2\n",
       "T17        1\n",
       "Name: APPLICATION_TYPE, dtype: int64"
      ]
     },
     "execution_count": 8,
     "metadata": {},
     "output_type": "execute_result"
    }
   ],
   "source": [
    "# Look at APPLICATION_TYPE value counts for binning\n",
    "#  YOUR CODE GOES HERE\n",
    "bin_counts = application_df['APPLICATION_TYPE'].value_counts()\n",
    "bin_counts"
   ]
  },
  {
   "cell_type": "code",
   "execution_count": 9,
   "metadata": {
    "colab": {
     "base_uri": "https://localhost:8080/"
    },
    "id": "-ESU3PbIEK4S",
    "outputId": "5426a639-b4c7-41e6-fae2-aa83c2a1e7f4"
   },
   "outputs": [
    {
     "data": {
      "text/plain": [
       "T3       27037\n",
       "T4        1542\n",
       "T6        1216\n",
       "T5        1173\n",
       "T19       1065\n",
       "T8         737\n",
       "T7         725\n",
       "T10        528\n",
       "Other      276\n",
       "Name: APPLICATION_TYPE, dtype: int64"
      ]
     },
     "execution_count": 9,
     "metadata": {},
     "output_type": "execute_result"
    }
   ],
   "source": [
    "# Choose a cutoff value and create a list of application types to be replaced\n",
    "# use the variable name `application_types_to_replace`\n",
    "#  YOUR CODE GOES HERE\n",
    "application_types_to_replace = list(bin_counts[bin_counts<500].index)\n",
    "application_types_to_replace\n",
    "\n",
    "# Replace in dataframe\n",
    "for app in application_types_to_replace:\n",
    "    application_df['APPLICATION_TYPE'] = application_df['APPLICATION_TYPE'].replace(app,\"Other\")\n",
    "\n",
    "# Check to make sure binning was successful\n",
    "application_df['APPLICATION_TYPE'].value_counts()"
   ]
  },
  {
   "cell_type": "code",
   "execution_count": 11,
   "metadata": {
    "colab": {
     "base_uri": "https://localhost:8080/"
    },
    "id": "xX_87tuuEK4S",
    "outputId": "241d46a8-b54e-46ab-fa6d-fbf81c8964c9"
   },
   "outputs": [
    {
     "data": {
      "text/plain": [
       "C1000    17326\n",
       "C2000     6074\n",
       "C1200     4837\n",
       "C3000     1918\n",
       "C2100     1883\n",
       "         ...  \n",
       "C4120        1\n",
       "C8210        1\n",
       "C2561        1\n",
       "C4500        1\n",
       "C2150        1\n",
       "Name: CLASSIFICATION, Length: 71, dtype: int64"
      ]
     },
     "execution_count": 11,
     "metadata": {},
     "output_type": "execute_result"
    }
   ],
   "source": [
    "# Look at CLASSIFICATION value counts for binning\n",
    "#  YOUR CODE GOES HERE\n",
    "class_binning = application_df['CLASSIFICATION'].value_counts()\n",
    "class_binning"
   ]
  },
  {
   "cell_type": "code",
   "execution_count": 15,
   "metadata": {
    "colab": {
     "base_uri": "https://localhost:8080/"
    },
    "id": "eNkyn5UoEK4T",
    "outputId": "047f9c4c-1715-4a42-e408-5c122d4cdb51"
   },
   "outputs": [
    {
     "data": {
      "text/plain": [
       "C1000    17326\n",
       "C2000     6074\n",
       "C1200     4837\n",
       "C3000     1918\n",
       "C2100     1883\n",
       "C7000      777\n",
       "C1700      287\n",
       "C4000      194\n",
       "C5000      116\n",
       "C1270      114\n",
       "C2700      104\n",
       "C2800       95\n",
       "C7100       75\n",
       "C1300       58\n",
       "C1280       50\n",
       "C1230       36\n",
       "C1400       34\n",
       "C7200       32\n",
       "C2300       32\n",
       "C1240       30\n",
       "C8000       20\n",
       "C7120       18\n",
       "C1500       16\n",
       "C1800       15\n",
       "C6000       15\n",
       "C1250       14\n",
       "C8200       11\n",
       "C1238       10\n",
       "C1278       10\n",
       "C1235        9\n",
       "C1237        9\n",
       "C7210        7\n",
       "C2400        6\n",
       "C1720        6\n",
       "C4100        6\n",
       "C1257        5\n",
       "C1600        5\n",
       "C1260        3\n",
       "C2710        3\n",
       "C0           3\n",
       "C3200        2\n",
       "C1234        2\n",
       "C1246        2\n",
       "C1267        2\n",
       "C1256        2\n",
       "Name: CLASSIFICATION, dtype: int64"
      ]
     },
     "execution_count": 15,
     "metadata": {},
     "output_type": "execute_result"
    }
   ],
   "source": [
    "# You may find it helpful to look at CLASSIFICATION value counts >1\n",
    "#  YOUR CODE GOES HERE\n",
    "counts_class = class_binning[class_binning>1]\n",
    "counts_class"
   ]
  },
  {
   "cell_type": "code",
   "execution_count": 14,
   "metadata": {
    "colab": {
     "base_uri": "https://localhost:8080/"
    },
    "id": "StqNkuxoEK4T",
    "outputId": "30503f9c-5c67-4097-dbd2-b0a40d2c7ad2"
   },
   "outputs": [
    {
     "data": {
      "text/plain": [
       "C1000    17326\n",
       "C2000     6074\n",
       "C1200     4837\n",
       "C3000     1918\n",
       "C2100     1883\n",
       "C7000      777\n",
       "Other      643\n",
       "C1700      287\n",
       "C4000      194\n",
       "C5000      116\n",
       "C1270      114\n",
       "C2700      104\n",
       "C1370        1\n",
       "C1236        1\n",
       "C2190        1\n",
       "C4200        1\n",
       "C5200        1\n",
       "C1900        1\n",
       "C2600        1\n",
       "C1248        1\n",
       "C6100        1\n",
       "C1820        1\n",
       "C1580        1\n",
       "C2570        1\n",
       "C1732        1\n",
       "C3700        1\n",
       "C2500        1\n",
       "C1570        1\n",
       "C1283        1\n",
       "C2380        1\n",
       "C1728        1\n",
       "C2170        1\n",
       "C4120        1\n",
       "C8210        1\n",
       "C4500        1\n",
       "C1245        1\n",
       "C2561        1\n",
       "C2150        1\n",
       "Name: CLASSIFICATION, dtype: int64"
      ]
     },
     "execution_count": 14,
     "metadata": {},
     "output_type": "execute_result"
    }
   ],
   "source": [
    "# Choose a cutoff value and create a list of classifications to be replaced\n",
    "# use the variable name `classifications_to_replace`\n",
    "#  YOUR CODE GOES HERE\n",
    "classifications_to_replace = list (counts_class[counts_class<100].index)\n",
    "classifications_to_replace\n",
    "\n",
    "# Replace in dataframe\n",
    "for cls in classifications_to_replace:\n",
    "    application_df['CLASSIFICATION'] = application_df['CLASSIFICATION'].replace(cls,\"Other\")\n",
    "    \n",
    "# Check to make sure binning was successful\n",
    "application_df['CLASSIFICATION'].value_counts()"
   ]
  },
  {
   "cell_type": "code",
   "execution_count": 16,
   "metadata": {
    "colab": {
     "base_uri": "https://localhost:8080/",
     "height": 317
    },
    "id": "c5RRLsXHEK4U",
    "outputId": "47dcbc3e-24eb-455b-9ab3-ba27776b2b93"
   },
   "outputs": [
    {
     "data": {
      "text/html": [
       "\n",
       "  <div id=\"df-89210d13-93fe-4343-bc55-17ac4566e602\">\n",
       "    <div class=\"colab-df-container\">\n",
       "      <div>\n",
       "<style scoped>\n",
       "    .dataframe tbody tr th:only-of-type {\n",
       "        vertical-align: middle;\n",
       "    }\n",
       "\n",
       "    .dataframe tbody tr th {\n",
       "        vertical-align: top;\n",
       "    }\n",
       "\n",
       "    .dataframe thead th {\n",
       "        text-align: right;\n",
       "    }\n",
       "</style>\n",
       "<table border=\"1\" class=\"dataframe\">\n",
       "  <thead>\n",
       "    <tr style=\"text-align: right;\">\n",
       "      <th></th>\n",
       "      <th>STATUS</th>\n",
       "      <th>ASK_AMT</th>\n",
       "      <th>IS_SUCCESSFUL</th>\n",
       "      <th>APPLICATION_TYPE_Other</th>\n",
       "      <th>APPLICATION_TYPE_T10</th>\n",
       "      <th>APPLICATION_TYPE_T19</th>\n",
       "      <th>APPLICATION_TYPE_T3</th>\n",
       "      <th>APPLICATION_TYPE_T4</th>\n",
       "      <th>APPLICATION_TYPE_T5</th>\n",
       "      <th>APPLICATION_TYPE_T6</th>\n",
       "      <th>...</th>\n",
       "      <th>INCOME_AMT_1-9999</th>\n",
       "      <th>INCOME_AMT_10000-24999</th>\n",
       "      <th>INCOME_AMT_100000-499999</th>\n",
       "      <th>INCOME_AMT_10M-50M</th>\n",
       "      <th>INCOME_AMT_1M-5M</th>\n",
       "      <th>INCOME_AMT_25000-99999</th>\n",
       "      <th>INCOME_AMT_50M+</th>\n",
       "      <th>INCOME_AMT_5M-10M</th>\n",
       "      <th>SPECIAL_CONSIDERATIONS_N</th>\n",
       "      <th>SPECIAL_CONSIDERATIONS_Y</th>\n",
       "    </tr>\n",
       "  </thead>\n",
       "  <tbody>\n",
       "    <tr>\n",
       "      <th>0</th>\n",
       "      <td>1</td>\n",
       "      <td>5000</td>\n",
       "      <td>1</td>\n",
       "      <td>0.0</td>\n",
       "      <td>1.0</td>\n",
       "      <td>0.0</td>\n",
       "      <td>0.0</td>\n",
       "      <td>0.0</td>\n",
       "      <td>0.0</td>\n",
       "      <td>0.0</td>\n",
       "      <td>...</td>\n",
       "      <td>0.0</td>\n",
       "      <td>0.0</td>\n",
       "      <td>0.0</td>\n",
       "      <td>0.0</td>\n",
       "      <td>0.0</td>\n",
       "      <td>0.0</td>\n",
       "      <td>0.0</td>\n",
       "      <td>0.0</td>\n",
       "      <td>1.0</td>\n",
       "      <td>0.0</td>\n",
       "    </tr>\n",
       "    <tr>\n",
       "      <th>1</th>\n",
       "      <td>1</td>\n",
       "      <td>108590</td>\n",
       "      <td>1</td>\n",
       "      <td>0.0</td>\n",
       "      <td>0.0</td>\n",
       "      <td>0.0</td>\n",
       "      <td>1.0</td>\n",
       "      <td>0.0</td>\n",
       "      <td>0.0</td>\n",
       "      <td>0.0</td>\n",
       "      <td>...</td>\n",
       "      <td>1.0</td>\n",
       "      <td>0.0</td>\n",
       "      <td>0.0</td>\n",
       "      <td>0.0</td>\n",
       "      <td>0.0</td>\n",
       "      <td>0.0</td>\n",
       "      <td>0.0</td>\n",
       "      <td>0.0</td>\n",
       "      <td>1.0</td>\n",
       "      <td>0.0</td>\n",
       "    </tr>\n",
       "    <tr>\n",
       "      <th>2</th>\n",
       "      <td>1</td>\n",
       "      <td>5000</td>\n",
       "      <td>0</td>\n",
       "      <td>0.0</td>\n",
       "      <td>0.0</td>\n",
       "      <td>0.0</td>\n",
       "      <td>0.0</td>\n",
       "      <td>0.0</td>\n",
       "      <td>1.0</td>\n",
       "      <td>0.0</td>\n",
       "      <td>...</td>\n",
       "      <td>0.0</td>\n",
       "      <td>0.0</td>\n",
       "      <td>0.0</td>\n",
       "      <td>0.0</td>\n",
       "      <td>0.0</td>\n",
       "      <td>0.0</td>\n",
       "      <td>0.0</td>\n",
       "      <td>0.0</td>\n",
       "      <td>1.0</td>\n",
       "      <td>0.0</td>\n",
       "    </tr>\n",
       "    <tr>\n",
       "      <th>3</th>\n",
       "      <td>1</td>\n",
       "      <td>6692</td>\n",
       "      <td>1</td>\n",
       "      <td>0.0</td>\n",
       "      <td>0.0</td>\n",
       "      <td>0.0</td>\n",
       "      <td>1.0</td>\n",
       "      <td>0.0</td>\n",
       "      <td>0.0</td>\n",
       "      <td>0.0</td>\n",
       "      <td>...</td>\n",
       "      <td>0.0</td>\n",
       "      <td>1.0</td>\n",
       "      <td>0.0</td>\n",
       "      <td>0.0</td>\n",
       "      <td>0.0</td>\n",
       "      <td>0.0</td>\n",
       "      <td>0.0</td>\n",
       "      <td>0.0</td>\n",
       "      <td>1.0</td>\n",
       "      <td>0.0</td>\n",
       "    </tr>\n",
       "    <tr>\n",
       "      <th>4</th>\n",
       "      <td>1</td>\n",
       "      <td>142590</td>\n",
       "      <td>1</td>\n",
       "      <td>0.0</td>\n",
       "      <td>0.0</td>\n",
       "      <td>0.0</td>\n",
       "      <td>1.0</td>\n",
       "      <td>0.0</td>\n",
       "      <td>0.0</td>\n",
       "      <td>0.0</td>\n",
       "      <td>...</td>\n",
       "      <td>0.0</td>\n",
       "      <td>0.0</td>\n",
       "      <td>1.0</td>\n",
       "      <td>0.0</td>\n",
       "      <td>0.0</td>\n",
       "      <td>0.0</td>\n",
       "      <td>0.0</td>\n",
       "      <td>0.0</td>\n",
       "      <td>1.0</td>\n",
       "      <td>0.0</td>\n",
       "    </tr>\n",
       "  </tbody>\n",
       "</table>\n",
       "<p>5 rows × 76 columns</p>\n",
       "</div>\n",
       "      <button class=\"colab-df-convert\" onclick=\"convertToInteractive('df-89210d13-93fe-4343-bc55-17ac4566e602')\"\n",
       "              title=\"Convert this dataframe to an interactive table.\"\n",
       "              style=\"display:none;\">\n",
       "        \n",
       "  <svg xmlns=\"http://www.w3.org/2000/svg\" height=\"24px\"viewBox=\"0 0 24 24\"\n",
       "       width=\"24px\">\n",
       "    <path d=\"M0 0h24v24H0V0z\" fill=\"none\"/>\n",
       "    <path d=\"M18.56 5.44l.94 2.06.94-2.06 2.06-.94-2.06-.94-.94-2.06-.94 2.06-2.06.94zm-11 1L8.5 8.5l.94-2.06 2.06-.94-2.06-.94L8.5 2.5l-.94 2.06-2.06.94zm10 10l.94 2.06.94-2.06 2.06-.94-2.06-.94-.94-2.06-.94 2.06-2.06.94z\"/><path d=\"M17.41 7.96l-1.37-1.37c-.4-.4-.92-.59-1.43-.59-.52 0-1.04.2-1.43.59L10.3 9.45l-7.72 7.72c-.78.78-.78 2.05 0 2.83L4 21.41c.39.39.9.59 1.41.59.51 0 1.02-.2 1.41-.59l7.78-7.78 2.81-2.81c.8-.78.8-2.07 0-2.86zM5.41 20L4 18.59l7.72-7.72 1.47 1.35L5.41 20z\"/>\n",
       "  </svg>\n",
       "      </button>\n",
       "      \n",
       "  <style>\n",
       "    .colab-df-container {\n",
       "      display:flex;\n",
       "      flex-wrap:wrap;\n",
       "      gap: 12px;\n",
       "    }\n",
       "\n",
       "    .colab-df-convert {\n",
       "      background-color: #E8F0FE;\n",
       "      border: none;\n",
       "      border-radius: 50%;\n",
       "      cursor: pointer;\n",
       "      display: none;\n",
       "      fill: #1967D2;\n",
       "      height: 32px;\n",
       "      padding: 0 0 0 0;\n",
       "      width: 32px;\n",
       "    }\n",
       "\n",
       "    .colab-df-convert:hover {\n",
       "      background-color: #E2EBFA;\n",
       "      box-shadow: 0px 1px 2px rgba(60, 64, 67, 0.3), 0px 1px 3px 1px rgba(60, 64, 67, 0.15);\n",
       "      fill: #174EA6;\n",
       "    }\n",
       "\n",
       "    [theme=dark] .colab-df-convert {\n",
       "      background-color: #3B4455;\n",
       "      fill: #D2E3FC;\n",
       "    }\n",
       "\n",
       "    [theme=dark] .colab-df-convert:hover {\n",
       "      background-color: #434B5C;\n",
       "      box-shadow: 0px 1px 3px 1px rgba(0, 0, 0, 0.15);\n",
       "      filter: drop-shadow(0px 1px 2px rgba(0, 0, 0, 0.3));\n",
       "      fill: #FFFFFF;\n",
       "    }\n",
       "  </style>\n",
       "\n",
       "      <script>\n",
       "        const buttonEl =\n",
       "          document.querySelector('#df-89210d13-93fe-4343-bc55-17ac4566e602 button.colab-df-convert');\n",
       "        buttonEl.style.display =\n",
       "          google.colab.kernel.accessAllowed ? 'block' : 'none';\n",
       "\n",
       "        async function convertToInteractive(key) {\n",
       "          const element = document.querySelector('#df-89210d13-93fe-4343-bc55-17ac4566e602');\n",
       "          const dataTable =\n",
       "            await google.colab.kernel.invokeFunction('convertToInteractive',\n",
       "                                                     [key], {});\n",
       "          if (!dataTable) return;\n",
       "\n",
       "          const docLinkHtml = 'Like what you see? Visit the ' +\n",
       "            '<a target=\"_blank\" href=https://colab.research.google.com/notebooks/data_table.ipynb>data table notebook</a>'\n",
       "            + ' to learn more about interactive tables.';\n",
       "          element.innerHTML = '';\n",
       "          dataTable['output_type'] = 'display_data';\n",
       "          await google.colab.output.renderOutput(dataTable, element);\n",
       "          const docLink = document.createElement('div');\n",
       "          docLink.innerHTML = docLinkHtml;\n",
       "          element.appendChild(docLink);\n",
       "        }\n",
       "      </script>\n",
       "    </div>\n",
       "  </div>\n",
       "  "
      ],
      "text/plain": [
       "   STATUS  ASK_AMT  IS_SUCCESSFUL  APPLICATION_TYPE_Other  \\\n",
       "0       1     5000              1                     0.0   \n",
       "1       1   108590              1                     0.0   \n",
       "2       1     5000              0                     0.0   \n",
       "3       1     6692              1                     0.0   \n",
       "4       1   142590              1                     0.0   \n",
       "\n",
       "   APPLICATION_TYPE_T10  APPLICATION_TYPE_T19  APPLICATION_TYPE_T3  \\\n",
       "0                   1.0                   0.0                  0.0   \n",
       "1                   0.0                   0.0                  1.0   \n",
       "2                   0.0                   0.0                  0.0   \n",
       "3                   0.0                   0.0                  1.0   \n",
       "4                   0.0                   0.0                  1.0   \n",
       "\n",
       "   APPLICATION_TYPE_T4  APPLICATION_TYPE_T5  APPLICATION_TYPE_T6  ...  \\\n",
       "0                  0.0                  0.0                  0.0  ...   \n",
       "1                  0.0                  0.0                  0.0  ...   \n",
       "2                  0.0                  1.0                  0.0  ...   \n",
       "3                  0.0                  0.0                  0.0  ...   \n",
       "4                  0.0                  0.0                  0.0  ...   \n",
       "\n",
       "   INCOME_AMT_1-9999  INCOME_AMT_10000-24999  INCOME_AMT_100000-499999  \\\n",
       "0                0.0                     0.0                       0.0   \n",
       "1                1.0                     0.0                       0.0   \n",
       "2                0.0                     0.0                       0.0   \n",
       "3                0.0                     1.0                       0.0   \n",
       "4                0.0                     0.0                       1.0   \n",
       "\n",
       "   INCOME_AMT_10M-50M  INCOME_AMT_1M-5M  INCOME_AMT_25000-99999  \\\n",
       "0                 0.0               0.0                     0.0   \n",
       "1                 0.0               0.0                     0.0   \n",
       "2                 0.0               0.0                     0.0   \n",
       "3                 0.0               0.0                     0.0   \n",
       "4                 0.0               0.0                     0.0   \n",
       "\n",
       "   INCOME_AMT_50M+  INCOME_AMT_5M-10M  SPECIAL_CONSIDERATIONS_N  \\\n",
       "0              0.0                0.0                       1.0   \n",
       "1              0.0                0.0                       1.0   \n",
       "2              0.0                0.0                       1.0   \n",
       "3              0.0                0.0                       1.0   \n",
       "4              0.0                0.0                       1.0   \n",
       "\n",
       "   SPECIAL_CONSIDERATIONS_Y  \n",
       "0                       0.0  \n",
       "1                       0.0  \n",
       "2                       0.0  \n",
       "3                       0.0  \n",
       "4                       0.0  \n",
       "\n",
       "[5 rows x 76 columns]"
      ]
     },
     "execution_count": 16,
     "metadata": {},
     "output_type": "execute_result"
    }
   ],
   "source": [
    "# Convert categorical data to numeric with `pd.get_dummies`\n",
    "#  YOUR CODE GOES HERE\n",
    "application_df = pd.get_dummies(application_df,dtype=float)\n",
    "application_df.head()"
   ]
  },
  {
   "cell_type": "code",
   "execution_count": 19,
   "metadata": {
    "colab": {
     "base_uri": "https://localhost:8080/"
    },
    "id": "SIgXFY21EK4U",
    "outputId": "bdb3a1a7-1c0e-4302-d3c8-e0ae80999bb9"
   },
   "outputs": [
    {
     "name": "stdout",
     "output_type": "stream",
     "text": [
      "[1 1 0 ... 0 1 0]\n",
      "[[1.0000000e+00 5.0000000e+03 0.0000000e+00 ... 0.0000000e+00\n",
      "  1.0000000e+00 0.0000000e+00]\n",
      " [1.0000000e+00 1.0859000e+05 0.0000000e+00 ... 0.0000000e+00\n",
      "  1.0000000e+00 0.0000000e+00]\n",
      " [1.0000000e+00 5.0000000e+03 0.0000000e+00 ... 0.0000000e+00\n",
      "  1.0000000e+00 0.0000000e+00]\n",
      " ...\n",
      " [1.0000000e+00 5.0000000e+03 0.0000000e+00 ... 0.0000000e+00\n",
      "  1.0000000e+00 0.0000000e+00]\n",
      " [1.0000000e+00 5.0000000e+03 0.0000000e+00 ... 0.0000000e+00\n",
      "  1.0000000e+00 0.0000000e+00]\n",
      " [1.0000000e+00 3.6500179e+07 0.0000000e+00 ... 0.0000000e+00\n",
      "  1.0000000e+00 0.0000000e+00]]\n"
     ]
    }
   ],
   "source": [
    "# Split our preprocessed data into our features and target arrays\n",
    "#  YOUR CODE GOES HERE\n",
    "y = application_df['IS_SUCCESSFUL'].values\n",
    "X = application_df.drop('IS_SUCCESSFUL', axis=1).values\n",
    "print(y)\n",
    "print(X)\n",
    "# Split the preprocessed data into a training and testing dataset\n",
    "#  YOUR CODE GOES HERE\n",
    "X_train, X_test, y_train, y_test = train_test_split(X,y,random_state = 42)"
   ]
  },
  {
   "cell_type": "code",
   "execution_count": 20,
   "metadata": {
    "id": "Ux1tsrxwEK4V"
   },
   "outputs": [],
   "source": [
    "# Create a StandardScaler instances\n",
    "scaler = StandardScaler()\n",
    "\n",
    "# Fit the StandardScaler\n",
    "X_scaler = scaler.fit(X_train)\n",
    "\n",
    "# Scale the data\n",
    "X_train_scaled = X_scaler.transform(X_train)\n",
    "X_test_scaled = X_scaler.transform(X_test)"
   ]
  },
  {
   "cell_type": "markdown",
   "metadata": {
    "id": "0RGpZ1lBEK4V"
   },
   "source": [
    "## Compile, Train and Evaluate the Model"
   ]
  },
  {
   "cell_type": "code",
   "execution_count": 24,
   "metadata": {
    "colab": {
     "base_uri": "https://localhost:8080/"
    },
    "id": "IBTryuBgEK4V",
    "outputId": "e7824278-f903-4d1a-c8bc-c2828faa2f14"
   },
   "outputs": [
    {
     "name": "stdout",
     "output_type": "stream",
     "text": [
      "Model: \"sequential_4\"\n",
      "_________________________________________________________________\n",
      " Layer (type)                Output Shape              Param #   \n",
      "=================================================================\n",
      " dense_9 (Dense)             (None, 7)                 532       \n",
      "                                                                 \n",
      " dense_10 (Dense)            (None, 14)                112       \n",
      "                                                                 \n",
      " dense_11 (Dense)            (None, 1)                 15        \n",
      "                                                                 \n",
      "=================================================================\n",
      "Total params: 659\n",
      "Trainable params: 659\n",
      "Non-trainable params: 0\n",
      "_________________________________________________________________\n"
     ]
    }
   ],
   "source": [
    "# Define the model - deep neural net, i.e., the number of input features and hidden nodes for each layer.\n",
    "#  YOUR CODE GOES HERE\n",
    "number_input_features = len( X_train_scaled[0])\n",
    "hidden_nodes_layer1=7\n",
    "hidden_nodes_layer2=14\n",
    "hidden_nodes_layer3=21\n",
    "\n",
    "nn = tf.keras.models.Sequential()\n",
    "\n",
    "# First hidden layer\n",
    "#  YOUR CODE GOES HERE\n",
    "nn.add(tf.keras.layers.Dense(units=hidden_nodes_layer1, input_dim=number_input_features, activation='relu'))\n",
    "# Second hidden layer\n",
    "#  YOUR CODE GOES HERE\n",
    "nn.add(tf.keras.layers.Dense(units=hidden_nodes_layer2, activation='relu'))\n",
    "# Output layer\n",
    "#  YOUR CODE GOES HERE\n",
    "nn.add(tf.keras.layers.Dense(units=1, activation='sigmoid'))\n",
    "# Check the structure of the model\n",
    "nn.summary()"
   ]
  },
  {
   "cell_type": "code",
   "execution_count": 25,
   "metadata": {
    "id": "UxbAJpMTEK4V"
   },
   "outputs": [],
   "source": [
    "# Compile the model\n",
    "#  YOUR CODE GOES HERE\n",
    "nn.compile(loss = 'binary_crossentropy', optimizer = 'adam', metrics=['accuracy'])"
   ]
  },
  {
   "cell_type": "code",
   "execution_count": 26,
   "metadata": {
    "colab": {
     "base_uri": "https://localhost:8080/"
    },
    "id": "IIgY3_wzEK4V",
    "outputId": "6c85ea40-694b-4863-a32f-f898ac46607e"
   },
   "outputs": [
    {
     "name": "stdout",
     "output_type": "stream",
     "text": [
      "Epoch 1/100\n",
      "684/684 [==============================] - 3s 3ms/step - loss: 0.6115 - accuracy: 0.6972 - val_loss: 0.5696 - val_accuracy: 0.7323\n",
      "Epoch 2/100\n",
      "684/684 [==============================] - 2s 3ms/step - loss: 0.5716 - accuracy: 0.7250 - val_loss: 0.5580 - val_accuracy: 0.7336\n",
      "Epoch 3/100\n",
      "684/684 [==============================] - 2s 3ms/step - loss: 0.5636 - accuracy: 0.7272 - val_loss: 0.5517 - val_accuracy: 0.7378\n",
      "Epoch 4/100\n",
      "684/684 [==============================] - 2s 3ms/step - loss: 0.5589 - accuracy: 0.7284 - val_loss: 0.5480 - val_accuracy: 0.7359\n",
      "Epoch 5/100\n",
      "684/684 [==============================] - 2s 3ms/step - loss: 0.5566 - accuracy: 0.7270 - val_loss: 0.5490 - val_accuracy: 0.7365\n",
      "Epoch 6/100\n",
      "684/684 [==============================] - 2s 2ms/step - loss: 0.5543 - accuracy: 0.7287 - val_loss: 0.5509 - val_accuracy: 0.7362\n",
      "Epoch 7/100\n",
      "684/684 [==============================] - 2s 2ms/step - loss: 0.5530 - accuracy: 0.7296 - val_loss: 0.5485 - val_accuracy: 0.7372\n",
      "Epoch 8/100\n",
      "684/684 [==============================] - 2s 3ms/step - loss: 0.5520 - accuracy: 0.7298 - val_loss: 0.5497 - val_accuracy: 0.7365\n",
      "Epoch 9/100\n",
      "684/684 [==============================] - 2s 2ms/step - loss: 0.5513 - accuracy: 0.7292 - val_loss: 0.5503 - val_accuracy: 0.7365\n",
      "Epoch 10/100\n",
      "684/684 [==============================] - 2s 3ms/step - loss: 0.5508 - accuracy: 0.7290 - val_loss: 0.5510 - val_accuracy: 0.7370\n",
      "Epoch 11/100\n",
      "684/684 [==============================] - 2s 3ms/step - loss: 0.5506 - accuracy: 0.7294 - val_loss: 0.5494 - val_accuracy: 0.7370\n",
      "Epoch 12/100\n",
      "684/684 [==============================] - 2s 3ms/step - loss: 0.5502 - accuracy: 0.7296 - val_loss: 0.5504 - val_accuracy: 0.7367\n",
      "Epoch 13/100\n",
      "684/684 [==============================] - 2s 3ms/step - loss: 0.5497 - accuracy: 0.7314 - val_loss: 0.5517 - val_accuracy: 0.7380\n",
      "Epoch 14/100\n",
      "684/684 [==============================] - 2s 3ms/step - loss: 0.5496 - accuracy: 0.7295 - val_loss: 0.5491 - val_accuracy: 0.7383\n",
      "Epoch 15/100\n",
      "684/684 [==============================] - 2s 3ms/step - loss: 0.5494 - accuracy: 0.7308 - val_loss: 0.5494 - val_accuracy: 0.7383\n",
      "Epoch 16/100\n",
      "684/684 [==============================] - 2s 3ms/step - loss: 0.5488 - accuracy: 0.7307 - val_loss: 0.5492 - val_accuracy: 0.7391\n",
      "Epoch 17/100\n",
      "684/684 [==============================] - 2s 2ms/step - loss: 0.5488 - accuracy: 0.7307 - val_loss: 0.5495 - val_accuracy: 0.7378\n",
      "Epoch 18/100\n",
      "684/684 [==============================] - 2s 3ms/step - loss: 0.5483 - accuracy: 0.7307 - val_loss: 0.5495 - val_accuracy: 0.7372\n",
      "Epoch 19/100\n",
      "684/684 [==============================] - 2s 3ms/step - loss: 0.5483 - accuracy: 0.7303 - val_loss: 0.5487 - val_accuracy: 0.7401\n",
      "Epoch 20/100\n",
      "684/684 [==============================] - 2s 3ms/step - loss: 0.5481 - accuracy: 0.7319 - val_loss: 0.5479 - val_accuracy: 0.7370\n",
      "Epoch 21/100\n",
      "684/684 [==============================] - 2s 3ms/step - loss: 0.5476 - accuracy: 0.7301 - val_loss: 0.5484 - val_accuracy: 0.7378\n",
      "Epoch 22/100\n",
      "684/684 [==============================] - 2s 3ms/step - loss: 0.5477 - accuracy: 0.7311 - val_loss: 0.5482 - val_accuracy: 0.7393\n",
      "Epoch 23/100\n",
      "684/684 [==============================] - 2s 3ms/step - loss: 0.5476 - accuracy: 0.7320 - val_loss: 0.5497 - val_accuracy: 0.7365\n",
      "Epoch 24/100\n",
      "684/684 [==============================] - 2s 3ms/step - loss: 0.5472 - accuracy: 0.7316 - val_loss: 0.5510 - val_accuracy: 0.7388\n",
      "Epoch 25/100\n",
      "684/684 [==============================] - 2s 3ms/step - loss: 0.5475 - accuracy: 0.7316 - val_loss: 0.5489 - val_accuracy: 0.7365\n",
      "Epoch 26/100\n",
      "684/684 [==============================] - 2s 3ms/step - loss: 0.5472 - accuracy: 0.7313 - val_loss: 0.5493 - val_accuracy: 0.7372\n",
      "Epoch 27/100\n",
      "684/684 [==============================] - 2s 3ms/step - loss: 0.5471 - accuracy: 0.7316 - val_loss: 0.5498 - val_accuracy: 0.7385\n",
      "Epoch 28/100\n",
      "684/684 [==============================] - 2s 3ms/step - loss: 0.5467 - accuracy: 0.7308 - val_loss: 0.5487 - val_accuracy: 0.7391\n",
      "Epoch 29/100\n",
      "684/684 [==============================] - 2s 3ms/step - loss: 0.5469 - accuracy: 0.7318 - val_loss: 0.5496 - val_accuracy: 0.7385\n",
      "Epoch 30/100\n",
      "684/684 [==============================] - 2s 3ms/step - loss: 0.5466 - accuracy: 0.7316 - val_loss: 0.5480 - val_accuracy: 0.7380\n",
      "Epoch 31/100\n",
      "684/684 [==============================] - 2s 3ms/step - loss: 0.5465 - accuracy: 0.7307 - val_loss: 0.5492 - val_accuracy: 0.7388\n",
      "Epoch 32/100\n",
      "684/684 [==============================] - 2s 3ms/step - loss: 0.5464 - accuracy: 0.7324 - val_loss: 0.5503 - val_accuracy: 0.7388\n",
      "Epoch 33/100\n",
      "684/684 [==============================] - 2s 3ms/step - loss: 0.5463 - accuracy: 0.7321 - val_loss: 0.5503 - val_accuracy: 0.7398\n",
      "Epoch 34/100\n",
      "684/684 [==============================] - 2s 3ms/step - loss: 0.5461 - accuracy: 0.7322 - val_loss: 0.5520 - val_accuracy: 0.7388\n",
      "Epoch 35/100\n",
      "684/684 [==============================] - 2s 3ms/step - loss: 0.5459 - accuracy: 0.7319 - val_loss: 0.5501 - val_accuracy: 0.7391\n",
      "Epoch 36/100\n",
      "684/684 [==============================] - 2s 3ms/step - loss: 0.5460 - accuracy: 0.7322 - val_loss: 0.5508 - val_accuracy: 0.7375\n",
      "Epoch 37/100\n",
      "684/684 [==============================] - 2s 3ms/step - loss: 0.5459 - accuracy: 0.7317 - val_loss: 0.5487 - val_accuracy: 0.7383\n",
      "Epoch 38/100\n",
      "684/684 [==============================] - 2s 3ms/step - loss: 0.5455 - accuracy: 0.7319 - val_loss: 0.5515 - val_accuracy: 0.7341\n",
      "Epoch 39/100\n",
      "684/684 [==============================] - 2s 3ms/step - loss: 0.5459 - accuracy: 0.7324 - val_loss: 0.5501 - val_accuracy: 0.7383\n",
      "Epoch 40/100\n",
      "684/684 [==============================] - 2s 3ms/step - loss: 0.5458 - accuracy: 0.7333 - val_loss: 0.5494 - val_accuracy: 0.7396\n",
      "Epoch 41/100\n",
      "684/684 [==============================] - 2s 3ms/step - loss: 0.5450 - accuracy: 0.7320 - val_loss: 0.5509 - val_accuracy: 0.7385\n",
      "Epoch 42/100\n",
      "684/684 [==============================] - 2s 3ms/step - loss: 0.5452 - accuracy: 0.7326 - val_loss: 0.5501 - val_accuracy: 0.7391\n",
      "Epoch 43/100\n",
      "684/684 [==============================] - 2s 3ms/step - loss: 0.5453 - accuracy: 0.7313 - val_loss: 0.5501 - val_accuracy: 0.7380\n",
      "Epoch 44/100\n",
      "684/684 [==============================] - 2s 2ms/step - loss: 0.5451 - accuracy: 0.7316 - val_loss: 0.5517 - val_accuracy: 0.7391\n",
      "Epoch 45/100\n",
      "684/684 [==============================] - 2s 2ms/step - loss: 0.5449 - accuracy: 0.7314 - val_loss: 0.5512 - val_accuracy: 0.7357\n",
      "Epoch 46/100\n",
      "684/684 [==============================] - 2s 3ms/step - loss: 0.5447 - accuracy: 0.7327 - val_loss: 0.5512 - val_accuracy: 0.7388\n",
      "Epoch 47/100\n",
      "684/684 [==============================] - 2s 2ms/step - loss: 0.5449 - accuracy: 0.7329 - val_loss: 0.5509 - val_accuracy: 0.7393\n",
      "Epoch 48/100\n",
      "684/684 [==============================] - 2s 3ms/step - loss: 0.5448 - accuracy: 0.7315 - val_loss: 0.5497 - val_accuracy: 0.7375\n",
      "Epoch 49/100\n",
      "684/684 [==============================] - 2s 2ms/step - loss: 0.5448 - accuracy: 0.7327 - val_loss: 0.5495 - val_accuracy: 0.7383\n",
      "Epoch 50/100\n",
      "684/684 [==============================] - 2s 3ms/step - loss: 0.5449 - accuracy: 0.7326 - val_loss: 0.5498 - val_accuracy: 0.7383\n",
      "Epoch 51/100\n",
      "684/684 [==============================] - 2s 3ms/step - loss: 0.5446 - accuracy: 0.7326 - val_loss: 0.5499 - val_accuracy: 0.7401\n",
      "Epoch 52/100\n",
      "684/684 [==============================] - 2s 3ms/step - loss: 0.5446 - accuracy: 0.7322 - val_loss: 0.5493 - val_accuracy: 0.7367\n",
      "Epoch 53/100\n",
      "684/684 [==============================] - 2s 3ms/step - loss: 0.5446 - accuracy: 0.7326 - val_loss: 0.5505 - val_accuracy: 0.7380\n",
      "Epoch 54/100\n",
      "684/684 [==============================] - 2s 3ms/step - loss: 0.5445 - accuracy: 0.7324 - val_loss: 0.5507 - val_accuracy: 0.7383\n",
      "Epoch 55/100\n",
      "684/684 [==============================] - 2s 3ms/step - loss: 0.5444 - accuracy: 0.7324 - val_loss: 0.5500 - val_accuracy: 0.7375\n",
      "Epoch 56/100\n",
      "684/684 [==============================] - 2s 3ms/step - loss: 0.5444 - accuracy: 0.7332 - val_loss: 0.5511 - val_accuracy: 0.7375\n",
      "Epoch 57/100\n",
      "684/684 [==============================] - 2s 3ms/step - loss: 0.5442 - accuracy: 0.7325 - val_loss: 0.5503 - val_accuracy: 0.7396\n",
      "Epoch 58/100\n",
      "684/684 [==============================] - 2s 3ms/step - loss: 0.5442 - accuracy: 0.7328 - val_loss: 0.5494 - val_accuracy: 0.7375\n",
      "Epoch 59/100\n",
      "684/684 [==============================] - 2s 3ms/step - loss: 0.5441 - accuracy: 0.7325 - val_loss: 0.5514 - val_accuracy: 0.7383\n",
      "Epoch 60/100\n",
      "684/684 [==============================] - 2s 3ms/step - loss: 0.5442 - accuracy: 0.7324 - val_loss: 0.5516 - val_accuracy: 0.7380\n",
      "Epoch 61/100\n",
      "684/684 [==============================] - 2s 3ms/step - loss: 0.5441 - accuracy: 0.7327 - val_loss: 0.5503 - val_accuracy: 0.7378\n",
      "Epoch 62/100\n",
      "684/684 [==============================] - 2s 3ms/step - loss: 0.5443 - accuracy: 0.7323 - val_loss: 0.5485 - val_accuracy: 0.7398\n",
      "Epoch 63/100\n",
      "684/684 [==============================] - 2s 3ms/step - loss: 0.5439 - accuracy: 0.7333 - val_loss: 0.5507 - val_accuracy: 0.7385\n",
      "Epoch 64/100\n",
      "684/684 [==============================] - 2s 3ms/step - loss: 0.5440 - accuracy: 0.7318 - val_loss: 0.5495 - val_accuracy: 0.7383\n",
      "Epoch 65/100\n",
      "684/684 [==============================] - 2s 3ms/step - loss: 0.5439 - accuracy: 0.7331 - val_loss: 0.5516 - val_accuracy: 0.7349\n",
      "Epoch 66/100\n",
      "684/684 [==============================] - 2s 3ms/step - loss: 0.5446 - accuracy: 0.7313 - val_loss: 0.5494 - val_accuracy: 0.7396\n",
      "Epoch 67/100\n",
      "684/684 [==============================] - 2s 3ms/step - loss: 0.5440 - accuracy: 0.7311 - val_loss: 0.5523 - val_accuracy: 0.7375\n",
      "Epoch 68/100\n",
      "684/684 [==============================] - 2s 3ms/step - loss: 0.5440 - accuracy: 0.7316 - val_loss: 0.5492 - val_accuracy: 0.7391\n",
      "Epoch 69/100\n",
      "684/684 [==============================] - 2s 3ms/step - loss: 0.5439 - accuracy: 0.7324 - val_loss: 0.5506 - val_accuracy: 0.7375\n",
      "Epoch 70/100\n",
      "684/684 [==============================] - 2s 3ms/step - loss: 0.5437 - accuracy: 0.7334 - val_loss: 0.5503 - val_accuracy: 0.7391\n",
      "Epoch 71/100\n",
      "684/684 [==============================] - 2s 3ms/step - loss: 0.5437 - accuracy: 0.7327 - val_loss: 0.5503 - val_accuracy: 0.7393\n",
      "Epoch 72/100\n",
      "684/684 [==============================] - 2s 3ms/step - loss: 0.5440 - accuracy: 0.7326 - val_loss: 0.5516 - val_accuracy: 0.7359\n",
      "Epoch 73/100\n",
      "684/684 [==============================] - 2s 3ms/step - loss: 0.5438 - accuracy: 0.7324 - val_loss: 0.5503 - val_accuracy: 0.7393\n",
      "Epoch 74/100\n",
      "684/684 [==============================] - 2s 3ms/step - loss: 0.5439 - accuracy: 0.7327 - val_loss: 0.5500 - val_accuracy: 0.7385\n",
      "Epoch 75/100\n",
      "684/684 [==============================] - 2s 3ms/step - loss: 0.5439 - accuracy: 0.7327 - val_loss: 0.5497 - val_accuracy: 0.7391\n",
      "Epoch 76/100\n",
      "684/684 [==============================] - 2s 3ms/step - loss: 0.5434 - accuracy: 0.7327 - val_loss: 0.5518 - val_accuracy: 0.7378\n",
      "Epoch 77/100\n",
      "684/684 [==============================] - 2s 3ms/step - loss: 0.5434 - accuracy: 0.7324 - val_loss: 0.5515 - val_accuracy: 0.7383\n",
      "Epoch 78/100\n",
      "684/684 [==============================] - 2s 3ms/step - loss: 0.5436 - accuracy: 0.7323 - val_loss: 0.5495 - val_accuracy: 0.7370\n",
      "Epoch 79/100\n",
      "684/684 [==============================] - 2s 3ms/step - loss: 0.5437 - accuracy: 0.7333 - val_loss: 0.5505 - val_accuracy: 0.7398\n",
      "Epoch 80/100\n",
      "684/684 [==============================] - 2s 3ms/step - loss: 0.5437 - accuracy: 0.7328 - val_loss: 0.5499 - val_accuracy: 0.7388\n",
      "Epoch 81/100\n",
      "684/684 [==============================] - 2s 3ms/step - loss: 0.5434 - accuracy: 0.7332 - val_loss: 0.5513 - val_accuracy: 0.7388\n",
      "Epoch 82/100\n",
      "684/684 [==============================] - 2s 2ms/step - loss: 0.5435 - accuracy: 0.7334 - val_loss: 0.5510 - val_accuracy: 0.7398\n",
      "Epoch 83/100\n",
      "684/684 [==============================] - 2s 3ms/step - loss: 0.5436 - accuracy: 0.7330 - val_loss: 0.5496 - val_accuracy: 0.7380\n",
      "Epoch 84/100\n",
      "684/684 [==============================] - 2s 3ms/step - loss: 0.5432 - accuracy: 0.7328 - val_loss: 0.5507 - val_accuracy: 0.7385\n",
      "Epoch 85/100\n",
      "684/684 [==============================] - 2s 3ms/step - loss: 0.5431 - accuracy: 0.7338 - val_loss: 0.5517 - val_accuracy: 0.7370\n",
      "Epoch 86/100\n",
      "684/684 [==============================] - 2s 3ms/step - loss: 0.5435 - accuracy: 0.7327 - val_loss: 0.5522 - val_accuracy: 0.7383\n",
      "Epoch 87/100\n",
      "684/684 [==============================] - 2s 3ms/step - loss: 0.5431 - accuracy: 0.7327 - val_loss: 0.5523 - val_accuracy: 0.7334\n",
      "Epoch 88/100\n",
      "684/684 [==============================] - 2s 3ms/step - loss: 0.5433 - accuracy: 0.7319 - val_loss: 0.5517 - val_accuracy: 0.7370\n",
      "Epoch 89/100\n",
      "684/684 [==============================] - 2s 3ms/step - loss: 0.5432 - accuracy: 0.7330 - val_loss: 0.5513 - val_accuracy: 0.7375\n",
      "Epoch 90/100\n",
      "684/684 [==============================] - 2s 3ms/step - loss: 0.5429 - accuracy: 0.7332 - val_loss: 0.5523 - val_accuracy: 0.7398\n",
      "Epoch 91/100\n",
      "684/684 [==============================] - 2s 3ms/step - loss: 0.5432 - accuracy: 0.7315 - val_loss: 0.5511 - val_accuracy: 0.7383\n",
      "Epoch 92/100\n",
      "684/684 [==============================] - 2s 3ms/step - loss: 0.5432 - accuracy: 0.7327 - val_loss: 0.5510 - val_accuracy: 0.7375\n",
      "Epoch 93/100\n",
      "684/684 [==============================] - 2s 3ms/step - loss: 0.5430 - accuracy: 0.7339 - val_loss: 0.5515 - val_accuracy: 0.7383\n",
      "Epoch 94/100\n",
      "684/684 [==============================] - 2s 3ms/step - loss: 0.5430 - accuracy: 0.7331 - val_loss: 0.5503 - val_accuracy: 0.7385\n",
      "Epoch 95/100\n",
      "684/684 [==============================] - 2s 3ms/step - loss: 0.5430 - accuracy: 0.7335 - val_loss: 0.5520 - val_accuracy: 0.7403\n",
      "Epoch 96/100\n",
      "684/684 [==============================] - 2s 3ms/step - loss: 0.5430 - accuracy: 0.7321 - val_loss: 0.5508 - val_accuracy: 0.7380\n",
      "Epoch 97/100\n",
      "684/684 [==============================] - 2s 3ms/step - loss: 0.5428 - accuracy: 0.7329 - val_loss: 0.5511 - val_accuracy: 0.7383\n",
      "Epoch 98/100\n",
      "684/684 [==============================] - 2s 3ms/step - loss: 0.5431 - accuracy: 0.7334 - val_loss: 0.5528 - val_accuracy: 0.7385\n",
      "Epoch 99/100\n",
      "684/684 [==============================] - 2s 3ms/step - loss: 0.5426 - accuracy: 0.7325 - val_loss: 0.5518 - val_accuracy: 0.7378\n",
      "Epoch 100/100\n",
      "684/684 [==============================] - 2s 3ms/step - loss: 0.5427 - accuracy: 0.7330 - val_loss: 0.5531 - val_accuracy: 0.7375\n"
     ]
    }
   ],
   "source": [
    "# Train the model\n",
    "#  YOUR CODE GOES \n",
    "fit_model = nn.fit(X_train_scaled,y_train,validation_split=0.15, epochs=100)"
   ]
  },
  {
   "cell_type": "code",
   "execution_count": 27,
   "metadata": {
    "colab": {
     "base_uri": "https://localhost:8080/"
    },
    "id": "6eROOHovEK4W",
    "outputId": "633c5fb4-0560-4cd6-bb69-ae42e83d4c91"
   },
   "outputs": [
    {
     "name": "stdout",
     "output_type": "stream",
     "text": [
      "268/268 - 0s - loss: 0.5531 - accuracy: 0.7273 - 331ms/epoch - 1ms/step\n",
      "Loss: 0.5530561804771423, Accuracy: 0.7273469567298889\n"
     ]
    }
   ],
   "source": [
    "# Evaluate the model using the test data\n",
    "model_loss, model_accuracy = nn.evaluate(X_test_scaled,y_test,verbose=2)\n",
    "print(f\"Loss: {model_loss}, Accuracy: {model_accuracy}\")"
   ]
  },
  {
   "cell_type": "code",
   "execution_count": 28,
   "metadata": {
    "colab": {
     "base_uri": "https://localhost:8080/",
     "height": 17
    },
    "id": "L3mPZk2eEK4W",
    "outputId": "2c361830-389c-466b-d424-dcc6b3b7ef68"
   },
   "outputs": [
    {
     "data": {
      "application/javascript": [
       "\n",
       "    async function download(id, filename, size) {\n",
       "      if (!google.colab.kernel.accessAllowed) {\n",
       "        return;\n",
       "      }\n",
       "      const div = document.createElement('div');\n",
       "      const label = document.createElement('label');\n",
       "      label.textContent = `Downloading \"${filename}\": `;\n",
       "      div.appendChild(label);\n",
       "      const progress = document.createElement('progress');\n",
       "      progress.max = size;\n",
       "      div.appendChild(progress);\n",
       "      document.body.appendChild(div);\n",
       "\n",
       "      const buffers = [];\n",
       "      let downloaded = 0;\n",
       "\n",
       "      const channel = await google.colab.kernel.comms.open(id);\n",
       "      // Send a message to notify the kernel that we're ready.\n",
       "      channel.send({})\n",
       "\n",
       "      for await (const message of channel.messages) {\n",
       "        // Send a message to notify the kernel that we're ready.\n",
       "        channel.send({})\n",
       "        if (message.buffers) {\n",
       "          for (const buffer of message.buffers) {\n",
       "            buffers.push(buffer);\n",
       "            downloaded += buffer.byteLength;\n",
       "            progress.value = downloaded;\n",
       "          }\n",
       "        }\n",
       "      }\n",
       "      const blob = new Blob(buffers, {type: 'application/binary'});\n",
       "      const a = document.createElement('a');\n",
       "      a.href = window.URL.createObjectURL(blob);\n",
       "      a.download = filename;\n",
       "      div.appendChild(a);\n",
       "      a.click();\n",
       "      div.remove();\n",
       "    }\n",
       "  "
      ],
      "text/plain": [
       "<IPython.core.display.Javascript object>"
      ]
     },
     "metadata": {},
     "output_type": "display_data"
    },
    {
     "data": {
      "application/javascript": [
       "download(\"download_1e069902-c150-4680-b9ac-42b68749c27d\", \"AlphabetSoupCharity.h5\", 39684)"
      ],
      "text/plain": [
       "<IPython.core.display.Javascript object>"
      ]
     },
     "metadata": {},
     "output_type": "display_data"
    }
   ],
   "source": [
    "# Export our model to HDF5 file\n",
    "#  YOUR CODE GOES HERE\n",
    "from google.colab import files\n",
    "nn.save('/content/AlphabetSoupCharity.h5')\n",
    "files.download('/content/AlphabetSoupCharity.h5')"
   ]
  },
  {
   "cell_type": "code",
   "execution_count": null,
   "metadata": {
    "id": "AvvHCF2dmRjy"
   },
   "outputs": [],
   "source": []
  }
 ],
 "metadata": {
  "colab": {
   "collapsed_sections": [],
   "name": "Starter_Code.ipynb",
   "provenance": []
  },
  "kernelspec": {
   "display_name": "Python [conda env:PythonData] *",
   "language": "python",
   "name": "conda-env-PythonData-py"
  },
  "language_info": {
   "codemirror_mode": {
    "name": "ipython",
    "version": 3
   },
   "file_extension": ".py",
   "mimetype": "text/x-python",
   "name": "python",
   "nbconvert_exporter": "python",
   "pygments_lexer": "ipython3",
   "version": "3.6.10"
  }
 },
 "nbformat": 4,
 "nbformat_minor": 1
}
